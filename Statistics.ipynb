{
 "cells": [
  {
   "cell_type": "markdown",
   "metadata": {},
   "source": [
    "# Facebook Messenger Statistics\n",
    "\n",
    "by [simonwongwong](https://github.com/simonwongwong/)"
   ]
  },
  {
   "cell_type": "code",
   "execution_count": null,
   "metadata": {},
   "outputs": [],
   "source": [
    "import loader\n",
    "import chatstat\n",
    "import os\n",
    "from plotly.subplots import make_subplots"
   ]
  },
  {
   "cell_type": "markdown",
   "metadata": {},
   "source": [
    "# Load your chats\n",
    "For more instructions go [here](https://github.com/simonwongwong/Facebook-Messenger-Statistics#how-to-use)\n",
    "\n",
    "When you extract your data from Facebook it should contain a folder called `messages`, and there should be an `inbox` folder within the `messages` folder.\n",
    "Pass in the path of the `inbox` folder into `parse_from_json`"
   ]
  },
  {
   "cell_type": "code",
   "execution_count": null,
   "metadata": {},
   "outputs": [],
   "source": [
    "cs = chatstat.ChatStat(*loader.parse_from_json(\"~/Desktop/facebook-simon/messages/inbox/\"))"
   ]
  },
  {
   "cell_type": "markdown",
   "metadata": {},
   "source": [
    "# All-time stats\n",
    "Here are some statistics using all available chat data"
   ]
  },
  {
   "cell_type": "markdown",
   "metadata": {},
   "source": [
    "## Who are you chatting with?"
   ]
  },
  {
   "cell_type": "code",
   "execution_count": null,
   "metadata": {},
   "outputs": [],
   "source": [
    "who = make_subplots(rows=2, cols=2, specs=[[{\"type\": \"bar\"}, {\"type\": \"bar\"}], [{\"type\": \"bar\", \"colspan\": 2}, None]],\n",
    "                    subplot_titles=['# of Messages by Sender', '# of Chats by Sender','# of Messages by Chat'])\n",
    "who.add_trace(cs.sent_from(top=10,omit_first=True,kind='bar',show=False), row=1,col=1)\n",
    "who.add_trace(cs.chat_counts(top=10,omit_first=True,show=False), row=1,col=2)\n",
    "who.add_trace(cs.biggest_chat(top=10,kind='bar',show=False), row=2,col=1)\n",
    "who.update_layout(height=950, width=950, showlegend=False, title_text=\"Stats by Number of Messages\")\n",
    "who.show()\n",
    "\n",
    "who_pct = make_subplots(rows=1, cols=2, specs=[[{\"type\": \"pie\"}, {\"type\": \"pie\"}]])\n",
    "who_pct.add_trace(cs.sent_from(top=10,omit_first=True,kind='pie',show=False), row=1,col=1)\n",
    "who_pct.add_trace(cs.biggest_chat(top=10,kind='pie',show=False), row=1,col=2)\n",
    "who_pct.update_layout(height=475, width=950, showlegend=True, title_text=\"Stats by Proportion of Messages\")\n",
    "\n"
   ]
  },
  {
   "cell_type": "markdown",
   "metadata": {},
   "source": [
    "## How are you chatting them?"
   ]
  },
  {
   "cell_type": "code",
   "execution_count": null,
   "metadata": {},
   "outputs": [],
   "source": [
    "how = make_subplots(rows=1, cols=2, specs=[[{\"type\": \"pie\"}, {\"type\": \"pie\"}]])\n",
    "how.add_trace(cs.msg_types(show=False), row=1,col=1)\n",
    "how.add_trace(cs.chat_types(show=False), row=1,col=2)"
   ]
  },
  {
   "cell_type": "markdown",
   "metadata": {},
   "source": [
    "## When are you the most chatty?\n",
    "i.e. when are you procrastinating"
   ]
  },
  {
   "cell_type": "code",
   "execution_count": null,
   "metadata": {},
   "outputs": [],
   "source": [
    "cs.time_stats(show=True)"
   ]
  },
  {
   "cell_type": "markdown",
   "metadata": {},
   "source": [
    "## What words are you using?"
   ]
  },
  {
   "cell_type": "code",
   "execution_count": null,
   "metadata": {},
   "outputs": [],
   "source": [
    "cs.word_counts(length=[3,5])"
   ]
  },
  {
   "cell_type": "markdown",
   "metadata": {},
   "source": [
    "# View stats by sender\n",
    "set `sender_name` to your own name to see stats based on all messages sent by you\n",
    "\n",
    "set `sender_name` to one of your friend's names to see stats based on all messages sent by them"
   ]
  },
  {
   "cell_type": "code",
   "execution_count": null,
   "metadata": {
    "scrolled": true
   },
   "outputs": [],
   "source": [
    "sender_name = \"Some Person\"\n",
    "cs.personal_stats(sender_name)"
   ]
  },
  {
   "cell_type": "markdown",
   "metadata": {},
   "source": [
    "# View stats per chat\n",
    "\n",
    "set `chat_name` to the name/title of any chat or group chat to see stats about messages sent to that chat from all participants\n",
    "\n",
    "How balanced are your chats?"
   ]
  },
  {
   "cell_type": "code",
   "execution_count": null,
   "metadata": {
    "scrolled": false
   },
   "outputs": [],
   "source": [
    "chat_name = \"Some Chat\"\n",
    "cs.stat_by_chat(chat_name)\n"
   ]
  },
  {
   "cell_type": "markdown",
   "metadata": {},
   "source": [
    "# Custom stats\n",
    "\n",
    "Custom stats created on top of the existing stats made by Simon Wong."
   ]
  },
  {
   "cell_type": "code",
   "execution_count": null,
   "metadata": {},
   "outputs": [],
   "source": [
    "call_time = make_subplots(rows=1, cols=1, specs=[[{\"type\": \"bar\"}]],\n",
    "                    subplot_titles=['Call Time by Chat'])\n",
    "who.add_trace(cs.cumulative_call_time(top=10,kind='bar',show=False,include_groups=True), row=1,col=1), row=1,col=1)\n",
    "who.update_layout(height=475, width=950, showlegend=False, title_text=\"Stats by Call Time\")\n",
    "who.show()"
   ]
  }
 ],
 "metadata": {
  "kernelspec": {
   "display_name": "Python 3 (ipykernel)",
   "language": "python",
   "name": "python3"
  },
  "language_info": {
   "codemirror_mode": {
    "name": "ipython",
    "version": 3
   },
   "file_extension": ".py",
   "mimetype": "text/x-python",
   "name": "python",
   "nbconvert_exporter": "python",
   "pygments_lexer": "ipython3",
   "version": "3.10.0"
  }
 },
 "nbformat": 4,
 "nbformat_minor": 2
}
